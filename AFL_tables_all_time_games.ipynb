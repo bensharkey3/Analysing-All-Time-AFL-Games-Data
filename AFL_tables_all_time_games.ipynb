{
 "cells": [
  {
   "cell_type": "markdown",
   "metadata": {
    "collapsed": true
   },
   "source": [
    "# Analysing All Time AFL Games Data"
   ]
  },
  {
   "cell_type": "markdown",
   "metadata": {},
   "source": [
    "https://afltables.com/afl/stats/biglists/bg3.txt\n",
    "\n",
    "This website contains data on every AFL match ever played, and appears to be updated weekly during the AFL season.\n",
    "\n",
    "In this notebook I'm going to scrape this data from the website into a dataframe and analyse it in ways that show some interesting things.\n",
    "\n",
    "I'm also going to create a dynamic league ladder that can show the standings as at any selected point in time!"
   ]
  },
  {
   "cell_type": "markdown",
   "metadata": {},
   "source": [
    "### Import data"
   ]
  },
  {
   "cell_type": "code",
   "execution_count": 1,
   "metadata": {
    "collapsed": true
   },
   "outputs": [],
   "source": [
    "import pandas as pd\n",
    "import numpy as np\n",
    "import datetime\n",
    "import matplotlib\n",
    "%matplotlib inline"
   ]
  },
  {
   "cell_type": "code",
   "execution_count": 2,
   "metadata": {
    "collapsed": true
   },
   "outputs": [],
   "source": [
    "df = pd.read_table('https://afltables.com/afl/stats/biglists/bg3.txt', \n",
    "                   delimiter=r'[.\\s]\\s{1,}', engine='python', parse_dates=True)\n",
    "\n",
    "df.reset_index(inplace=True)\n",
    "\n",
    "df.drop(['level_0'], axis=1, inplace=True)\n",
    "\n",
    "df.columns = ['date','round','home team','home score','away team','away score','venue']"
   ]
  },
  {
   "cell_type": "code",
   "execution_count": 3,
   "metadata": {},
   "outputs": [
    {
     "data": {
      "text/html": [
       "<div>\n",
       "<style>\n",
       "    .dataframe thead tr:only-child th {\n",
       "        text-align: right;\n",
       "    }\n",
       "\n",
       "    .dataframe thead th {\n",
       "        text-align: left;\n",
       "    }\n",
       "\n",
       "    .dataframe tbody tr th {\n",
       "        vertical-align: top;\n",
       "    }\n",
       "</style>\n",
       "<table border=\"1\" class=\"dataframe\">\n",
       "  <thead>\n",
       "    <tr style=\"text-align: right;\">\n",
       "      <th></th>\n",
       "      <th>date</th>\n",
       "      <th>round</th>\n",
       "      <th>home team</th>\n",
       "      <th>home score</th>\n",
       "      <th>away team</th>\n",
       "      <th>away score</th>\n",
       "      <th>venue</th>\n",
       "    </tr>\n",
       "  </thead>\n",
       "  <tbody>\n",
       "    <tr>\n",
       "      <th>0</th>\n",
       "      <td>1897-05-08</td>\n",
       "      <td>R1</td>\n",
       "      <td>Fitzroy</td>\n",
       "      <td>6.13.49</td>\n",
       "      <td>Carlton</td>\n",
       "      <td>2.4.16</td>\n",
       "      <td>Brunswick St</td>\n",
       "    </tr>\n",
       "    <tr>\n",
       "      <th>1</th>\n",
       "      <td>1897-05-08</td>\n",
       "      <td>R1</td>\n",
       "      <td>Collingwood</td>\n",
       "      <td>5.11.41</td>\n",
       "      <td>St Kilda</td>\n",
       "      <td>2.4.16</td>\n",
       "      <td>Victoria Park</td>\n",
       "    </tr>\n",
       "    <tr>\n",
       "      <th>2</th>\n",
       "      <td>1897-05-08</td>\n",
       "      <td>R1</td>\n",
       "      <td>Geelong</td>\n",
       "      <td>3.6.24</td>\n",
       "      <td>Essendon</td>\n",
       "      <td>7.5.47</td>\n",
       "      <td>Corio Oval</td>\n",
       "    </tr>\n",
       "    <tr>\n",
       "      <th>3</th>\n",
       "      <td>1897-05-08</td>\n",
       "      <td>R1</td>\n",
       "      <td>South Melbourne</td>\n",
       "      <td>3.9.27</td>\n",
       "      <td>Melbourne</td>\n",
       "      <td>6.8.44</td>\n",
       "      <td>Lake Oval</td>\n",
       "    </tr>\n",
       "    <tr>\n",
       "      <th>4</th>\n",
       "      <td>1897-05-15</td>\n",
       "      <td>R2</td>\n",
       "      <td>South Melbourne</td>\n",
       "      <td>6.4.40</td>\n",
       "      <td>Carlton</td>\n",
       "      <td>5.6.36</td>\n",
       "      <td>Lake Oval</td>\n",
       "    </tr>\n",
       "  </tbody>\n",
       "</table>\n",
       "</div>"
      ],
      "text/plain": [
       "        date round        home team home score  away team away score  \\\n",
       "0 1897-05-08    R1          Fitzroy    6.13.49    Carlton     2.4.16   \n",
       "1 1897-05-08    R1      Collingwood    5.11.41   St Kilda     2.4.16   \n",
       "2 1897-05-08    R1          Geelong     3.6.24   Essendon     7.5.47   \n",
       "3 1897-05-08    R1  South Melbourne     3.9.27  Melbourne     6.8.44   \n",
       "4 1897-05-15    R2  South Melbourne     6.4.40    Carlton     5.6.36   \n",
       "\n",
       "           venue  \n",
       "0   Brunswick St  \n",
       "1  Victoria Park  \n",
       "2     Corio Oval  \n",
       "3      Lake Oval  \n",
       "4      Lake Oval  "
      ]
     },
     "execution_count": 3,
     "metadata": {},
     "output_type": "execute_result"
    }
   ],
   "source": [
    "# data read to a dataframe\n",
    "\n",
    "df.head()"
   ]
  },
  {
   "cell_type": "markdown",
   "metadata": {},
   "source": [
    "### Data cleaning"
   ]
  },
  {
   "cell_type": "code",
   "execution_count": 4,
   "metadata": {
    "collapsed": true
   },
   "outputs": [],
   "source": [
    "df.replace('South Melbourne', value='Sydney/South Melbourne', inplace=True)\n",
    "\n",
    "df.replace('Sydney', value='Sydney/South Melbourne', inplace=True)\n",
    "\n",
    "df.replace('Kangaroos', value='North Melbourne', inplace=True)\n",
    "\n",
    "df.replace('Footscray', value='Western Bulldogs/Footscray', inplace=True)\n",
    "\n",
    "df.replace('Western Bulldogs', value='Western Bulldogs/Footscray', inplace=True)"
   ]
  },
  {
   "cell_type": "code",
   "execution_count": 5,
   "metadata": {
    "collapsed": true
   },
   "outputs": [],
   "source": [
    "df['home goals'] = df['home score'].apply(lambda x: x.split('.')[0])\n",
    "\n",
    "df['home behinds'] = df['home score'].apply(lambda x: x.split('.')[1])\n",
    "\n",
    "df['home score'] = df['home score'].apply(lambda x: x.split('.')[2])"
   ]
  },
  {
   "cell_type": "code",
   "execution_count": 6,
   "metadata": {
    "collapsed": true
   },
   "outputs": [],
   "source": [
    "df['away goals'] = df['away score'].apply(lambda x: x.split('.')[0])\n",
    "\n",
    "df['away behinds'] = df['away score'].apply(lambda x: x.split('.')[1])\n",
    "\n",
    "df['away score'] = df['away score'].apply(lambda x: x.split('.')[2])"
   ]
  },
  {
   "cell_type": "code",
   "execution_count": 7,
   "metadata": {
    "collapsed": true
   },
   "outputs": [],
   "source": [
    "df[['home goals','home score','home behinds','away goals','away behinds','away score']] = df[['home goals','home score','home behinds','away goals','away behinds','away score']].astype(int)"
   ]
  },
  {
   "cell_type": "markdown",
   "metadata": {},
   "source": [
    "### Create additional columns"
   ]
  },
  {
   "cell_type": "code",
   "execution_count": 8,
   "metadata": {
    "collapsed": true
   },
   "outputs": [],
   "source": [
    "df['home team win margin'] = df['home score'] - df['away score']\n",
    "\n",
    "df['margin'] = (((df['home score'] - df['away score'])**2)**0.5).astype(int)"
   ]
  },
  {
   "cell_type": "code",
   "execution_count": 9,
   "metadata": {
    "collapsed": true
   },
   "outputs": [],
   "source": [
    "df['total score'] = df['home score'] + df['away score']"
   ]
  },
  {
   "cell_type": "code",
   "execution_count": 10,
   "metadata": {
    "collapsed": true
   },
   "outputs": [],
   "source": [
    "def func1 (i):\n",
    "    if i > 0:\n",
    "        return 'home'\n",
    "    elif i == 0:\n",
    "        return 'draw'\n",
    "    else:\n",
    "        return 'away'"
   ]
  },
  {
   "cell_type": "code",
   "execution_count": 11,
   "metadata": {
    "collapsed": true
   },
   "outputs": [],
   "source": [
    "df['winning side'] = df['home team win margin'].apply(func1)"
   ]
  },
  {
   "cell_type": "code",
   "execution_count": 12,
   "metadata": {
    "collapsed": true
   },
   "outputs": [],
   "source": [
    "df = df[['date','round','home team','home goals','home behinds','home score','away team','away goals','away behinds','away score','venue','total score','winning side','home team win margin','margin']]"
   ]
  },
  {
   "cell_type": "code",
   "execution_count": 13,
   "metadata": {
    "collapsed": true
   },
   "outputs": [],
   "source": [
    "df['winning team'] = np.where(df['winning side'] == 'home', df['home team'], np.where(df['winning side'] == 'away', df['away team'], 'draw'))"
   ]
  },
  {
   "cell_type": "code",
   "execution_count": 14,
   "metadata": {
    "collapsed": true
   },
   "outputs": [],
   "source": [
    "df['losing team'] = np.where(df['winning side'] == 'home', df['away team'], np.where(df['winning side'] == 'away', df['home team'], 'draw'))"
   ]
  },
  {
   "cell_type": "code",
   "execution_count": 15,
   "metadata": {},
   "outputs": [
    {
     "data": {
      "text/html": [
       "<div>\n",
       "<style>\n",
       "    .dataframe thead tr:only-child th {\n",
       "        text-align: right;\n",
       "    }\n",
       "\n",
       "    .dataframe thead th {\n",
       "        text-align: left;\n",
       "    }\n",
       "\n",
       "    .dataframe tbody tr th {\n",
       "        vertical-align: top;\n",
       "    }\n",
       "</style>\n",
       "<table border=\"1\" class=\"dataframe\">\n",
       "  <thead>\n",
       "    <tr style=\"text-align: right;\">\n",
       "      <th></th>\n",
       "      <th>date</th>\n",
       "      <th>round</th>\n",
       "      <th>home team</th>\n",
       "      <th>home goals</th>\n",
       "      <th>home behinds</th>\n",
       "      <th>home score</th>\n",
       "      <th>away team</th>\n",
       "      <th>away goals</th>\n",
       "      <th>away behinds</th>\n",
       "      <th>away score</th>\n",
       "      <th>venue</th>\n",
       "      <th>total score</th>\n",
       "      <th>winning side</th>\n",
       "      <th>home team win margin</th>\n",
       "      <th>margin</th>\n",
       "      <th>winning team</th>\n",
       "      <th>losing team</th>\n",
       "    </tr>\n",
       "  </thead>\n",
       "  <tbody>\n",
       "    <tr>\n",
       "      <th>0</th>\n",
       "      <td>1897-05-08</td>\n",
       "      <td>R1</td>\n",
       "      <td>Fitzroy</td>\n",
       "      <td>6</td>\n",
       "      <td>13</td>\n",
       "      <td>49</td>\n",
       "      <td>Carlton</td>\n",
       "      <td>2</td>\n",
       "      <td>4</td>\n",
       "      <td>16</td>\n",
       "      <td>Brunswick St</td>\n",
       "      <td>65</td>\n",
       "      <td>home</td>\n",
       "      <td>33</td>\n",
       "      <td>33</td>\n",
       "      <td>Fitzroy</td>\n",
       "      <td>Carlton</td>\n",
       "    </tr>\n",
       "    <tr>\n",
       "      <th>1</th>\n",
       "      <td>1897-05-08</td>\n",
       "      <td>R1</td>\n",
       "      <td>Collingwood</td>\n",
       "      <td>5</td>\n",
       "      <td>11</td>\n",
       "      <td>41</td>\n",
       "      <td>St Kilda</td>\n",
       "      <td>2</td>\n",
       "      <td>4</td>\n",
       "      <td>16</td>\n",
       "      <td>Victoria Park</td>\n",
       "      <td>57</td>\n",
       "      <td>home</td>\n",
       "      <td>25</td>\n",
       "      <td>25</td>\n",
       "      <td>Collingwood</td>\n",
       "      <td>St Kilda</td>\n",
       "    </tr>\n",
       "    <tr>\n",
       "      <th>2</th>\n",
       "      <td>1897-05-08</td>\n",
       "      <td>R1</td>\n",
       "      <td>Geelong</td>\n",
       "      <td>3</td>\n",
       "      <td>6</td>\n",
       "      <td>24</td>\n",
       "      <td>Essendon</td>\n",
       "      <td>7</td>\n",
       "      <td>5</td>\n",
       "      <td>47</td>\n",
       "      <td>Corio Oval</td>\n",
       "      <td>71</td>\n",
       "      <td>away</td>\n",
       "      <td>-23</td>\n",
       "      <td>23</td>\n",
       "      <td>Essendon</td>\n",
       "      <td>Geelong</td>\n",
       "    </tr>\n",
       "    <tr>\n",
       "      <th>3</th>\n",
       "      <td>1897-05-08</td>\n",
       "      <td>R1</td>\n",
       "      <td>Sydney/South Melbourne</td>\n",
       "      <td>3</td>\n",
       "      <td>9</td>\n",
       "      <td>27</td>\n",
       "      <td>Melbourne</td>\n",
       "      <td>6</td>\n",
       "      <td>8</td>\n",
       "      <td>44</td>\n",
       "      <td>Lake Oval</td>\n",
       "      <td>71</td>\n",
       "      <td>away</td>\n",
       "      <td>-17</td>\n",
       "      <td>17</td>\n",
       "      <td>Melbourne</td>\n",
       "      <td>Sydney/South Melbourne</td>\n",
       "    </tr>\n",
       "    <tr>\n",
       "      <th>4</th>\n",
       "      <td>1897-05-15</td>\n",
       "      <td>R2</td>\n",
       "      <td>Sydney/South Melbourne</td>\n",
       "      <td>6</td>\n",
       "      <td>4</td>\n",
       "      <td>40</td>\n",
       "      <td>Carlton</td>\n",
       "      <td>5</td>\n",
       "      <td>6</td>\n",
       "      <td>36</td>\n",
       "      <td>Lake Oval</td>\n",
       "      <td>76</td>\n",
       "      <td>home</td>\n",
       "      <td>4</td>\n",
       "      <td>4</td>\n",
       "      <td>Sydney/South Melbourne</td>\n",
       "      <td>Carlton</td>\n",
       "    </tr>\n",
       "  </tbody>\n",
       "</table>\n",
       "</div>"
      ],
      "text/plain": [
       "        date round               home team  home goals  home behinds  \\\n",
       "0 1897-05-08    R1                 Fitzroy           6            13   \n",
       "1 1897-05-08    R1             Collingwood           5            11   \n",
       "2 1897-05-08    R1                 Geelong           3             6   \n",
       "3 1897-05-08    R1  Sydney/South Melbourne           3             9   \n",
       "4 1897-05-15    R2  Sydney/South Melbourne           6             4   \n",
       "\n",
       "   home score  away team  away goals  away behinds  away score          venue  \\\n",
       "0          49    Carlton           2             4          16   Brunswick St   \n",
       "1          41   St Kilda           2             4          16  Victoria Park   \n",
       "2          24   Essendon           7             5          47     Corio Oval   \n",
       "3          27  Melbourne           6             8          44      Lake Oval   \n",
       "4          40    Carlton           5             6          36      Lake Oval   \n",
       "\n",
       "   total score winning side  home team win margin  margin  \\\n",
       "0           65         home                    33      33   \n",
       "1           57         home                    25      25   \n",
       "2           71         away                   -23      23   \n",
       "3           71         away                   -17      17   \n",
       "4           76         home                     4       4   \n",
       "\n",
       "             winning team             losing team  \n",
       "0                 Fitzroy                 Carlton  \n",
       "1             Collingwood                St Kilda  \n",
       "2                Essendon                 Geelong  \n",
       "3               Melbourne  Sydney/South Melbourne  \n",
       "4  Sydney/South Melbourne                 Carlton  "
      ]
     },
     "execution_count": 15,
     "metadata": {},
     "output_type": "execute_result"
    }
   ],
   "source": [
    "# dataframe output\n",
    "\n",
    "df.head()"
   ]
  },
  {
   "cell_type": "markdown",
   "metadata": {},
   "source": [
    "### Average total match score by season"
   ]
  },
  {
   "cell_type": "code",
   "execution_count": 16,
   "metadata": {},
   "outputs": [
    {
     "data": {
      "text/plain": [
       "<matplotlib.axes._subplots.AxesSubplot at 0x2ac0f428390>"
      ]
     },
     "execution_count": 16,
     "metadata": {},
     "output_type": "execute_result"
    },
    {
     "data": {
      "image/png": "[encoded data removed]",
      "text/plain": [
       "<matplotlib.figure.Figure at 0x2ac0f8195f8>"
      ]
     },
     "metadata": {},
     "output_type": "display_data"
    }
   ],
   "source": [
    "# average total score per season\n",
    "\n",
    "df.groupby('date').mean().resample('A').mean()['total score'].plot(figsize=(12,6))"
   ]
  },
  {
   "cell_type": "markdown",
   "metadata": {},
   "source": [
    "### Home ground advantage by ground"
   ]
  },
  {
   "cell_type": "code",
   "execution_count": 17,
   "metadata": {
    "collapsed": true
   },
   "outputs": [],
   "source": [
    "df_hgadv = df.groupby(['venue', 'winning side']).count()[['date']]"
   ]
  },
  {
   "cell_type": "code",
   "execution_count": 18,
   "metadata": {
    "collapsed": true
   },
   "outputs": [],
   "source": [
    "df_hgadv = df_hgadv.unstack()"
   ]
  },
  {
   "cell_type": "code",
   "execution_count": 19,
   "metadata": {
    "collapsed": true
   },
   "outputs": [],
   "source": [
    "df_hgadv = df_hgadv['date']"
   ]
  },
  {
   "cell_type": "code",
   "execution_count": 20,
   "metadata": {
    "collapsed": true
   },
   "outputs": [],
   "source": [
    "df_hgadv = df_hgadv.fillna(0)"
   ]
  },
  {
   "cell_type": "code",
   "execution_count": 21,
   "metadata": {
    "collapsed": true
   },
   "outputs": [],
   "source": [
    "df_hgadv['total'] = df_hgadv['home'] + df_hgadv['away'] + df_hgadv['draw']"
   ]
  },
  {
   "cell_type": "code",
   "execution_count": 22,
   "metadata": {
    "collapsed": true
   },
   "outputs": [],
   "source": [
    "df_hgadv['home win %'] = df_hgadv['home'] / df_hgadv['total']"
   ]
  },
  {
   "cell_type": "code",
   "execution_count": 23,
   "metadata": {},
   "outputs": [
    {
     "data": {
      "text/html": [
       "<div>\n",
       "<style>\n",
       "    .dataframe thead tr:only-child th {\n",
       "        text-align: right;\n",
       "    }\n",
       "\n",
       "    .dataframe thead th {\n",
       "        text-align: left;\n",
       "    }\n",
       "\n",
       "    .dataframe tbody tr th {\n",
       "        vertical-align: top;\n",
       "    }\n",
       "</style>\n",
       "<table border=\"1\" class=\"dataframe\">\n",
       "  <thead>\n",
       "    <tr style=\"text-align: right;\">\n",
       "      <th>winning side</th>\n",
       "      <th>away</th>\n",
       "      <th>draw</th>\n",
       "      <th>home</th>\n",
       "      <th>total</th>\n",
       "      <th>home win %</th>\n",
       "    </tr>\n",
       "    <tr>\n",
       "      <th>venue</th>\n",
       "      <th></th>\n",
       "      <th></th>\n",
       "      <th></th>\n",
       "      <th></th>\n",
       "      <th></th>\n",
       "    </tr>\n",
       "  </thead>\n",
       "  <tbody>\n",
       "    <tr>\n",
       "      <th>Victoria Park</th>\n",
       "      <td>222.0</td>\n",
       "      <td>5.0</td>\n",
       "      <td>653.0</td>\n",
       "      <td>880.0</td>\n",
       "      <td>0.742045</td>\n",
       "    </tr>\n",
       "    <tr>\n",
       "      <th>Princes Park</th>\n",
       "      <td>380.0</td>\n",
       "      <td>16.0</td>\n",
       "      <td>881.0</td>\n",
       "      <td>1277.0</td>\n",
       "      <td>0.689898</td>\n",
       "    </tr>\n",
       "    <tr>\n",
       "      <th>Windy Hill</th>\n",
       "      <td>201.0</td>\n",
       "      <td>9.0</td>\n",
       "      <td>419.0</td>\n",
       "      <td>629.0</td>\n",
       "      <td>0.666137</td>\n",
       "    </tr>\n",
       "    <tr>\n",
       "      <th>Kardinia Park</th>\n",
       "      <td>216.0</td>\n",
       "      <td>5.0</td>\n",
       "      <td>440.0</td>\n",
       "      <td>661.0</td>\n",
       "      <td>0.665658</td>\n",
       "    </tr>\n",
       "    <tr>\n",
       "      <th>Subiaco</th>\n",
       "      <td>188.0</td>\n",
       "      <td>1.0</td>\n",
       "      <td>356.0</td>\n",
       "      <td>545.0</td>\n",
       "      <td>0.653211</td>\n",
       "    </tr>\n",
       "    <tr>\n",
       "      <th>M.C.G.</th>\n",
       "      <td>1039.0</td>\n",
       "      <td>29.0</td>\n",
       "      <td>1725.0</td>\n",
       "      <td>2793.0</td>\n",
       "      <td>0.617615</td>\n",
       "    </tr>\n",
       "    <tr>\n",
       "      <th>Punt Rd</th>\n",
       "      <td>224.0</td>\n",
       "      <td>6.0</td>\n",
       "      <td>314.0</td>\n",
       "      <td>544.0</td>\n",
       "      <td>0.577206</td>\n",
       "    </tr>\n",
       "    <tr>\n",
       "      <th>Brunswick St</th>\n",
       "      <td>255.0</td>\n",
       "      <td>13.0</td>\n",
       "      <td>344.0</td>\n",
       "      <td>612.0</td>\n",
       "      <td>0.562092</td>\n",
       "    </tr>\n",
       "    <tr>\n",
       "      <th>Lake Oval</th>\n",
       "      <td>311.0</td>\n",
       "      <td>8.0</td>\n",
       "      <td>385.0</td>\n",
       "      <td>704.0</td>\n",
       "      <td>0.546875</td>\n",
       "    </tr>\n",
       "    <tr>\n",
       "      <th>Waverley Park</th>\n",
       "      <td>328.0</td>\n",
       "      <td>5.0</td>\n",
       "      <td>399.0</td>\n",
       "      <td>732.0</td>\n",
       "      <td>0.545082</td>\n",
       "    </tr>\n",
       "    <tr>\n",
       "      <th>Western Oval</th>\n",
       "      <td>307.0</td>\n",
       "      <td>9.0</td>\n",
       "      <td>349.0</td>\n",
       "      <td>665.0</td>\n",
       "      <td>0.524812</td>\n",
       "    </tr>\n",
       "    <tr>\n",
       "      <th>Docklands</th>\n",
       "      <td>397.0</td>\n",
       "      <td>10.0</td>\n",
       "      <td>436.0</td>\n",
       "      <td>843.0</td>\n",
       "      <td>0.517200</td>\n",
       "    </tr>\n",
       "    <tr>\n",
       "      <th>Junction Oval</th>\n",
       "      <td>377.0</td>\n",
       "      <td>5.0</td>\n",
       "      <td>352.0</td>\n",
       "      <td>734.0</td>\n",
       "      <td>0.479564</td>\n",
       "    </tr>\n",
       "    <tr>\n",
       "      <th>Arden St</th>\n",
       "      <td>282.0</td>\n",
       "      <td>8.0</td>\n",
       "      <td>239.0</td>\n",
       "      <td>529.0</td>\n",
       "      <td>0.451796</td>\n",
       "    </tr>\n",
       "  </tbody>\n",
       "</table>\n",
       "</div>"
      ],
      "text/plain": [
       "winning side     away  draw    home   total  home win %\n",
       "venue                                                  \n",
       "Victoria Park   222.0   5.0   653.0   880.0    0.742045\n",
       "Princes Park    380.0  16.0   881.0  1277.0    0.689898\n",
       "Windy Hill      201.0   9.0   419.0   629.0    0.666137\n",
       "Kardinia Park   216.0   5.0   440.0   661.0    0.665658\n",
       "Subiaco         188.0   1.0   356.0   545.0    0.653211\n",
       "M.C.G.         1039.0  29.0  1725.0  2793.0    0.617615\n",
       "Punt Rd         224.0   6.0   314.0   544.0    0.577206\n",
       "Brunswick St    255.0  13.0   344.0   612.0    0.562092\n",
       "Lake Oval       311.0   8.0   385.0   704.0    0.546875\n",
       "Waverley Park   328.0   5.0   399.0   732.0    0.545082\n",
       "Western Oval    307.0   9.0   349.0   665.0    0.524812\n",
       "Docklands       397.0  10.0   436.0   843.0    0.517200\n",
       "Junction Oval   377.0   5.0   352.0   734.0    0.479564\n",
       "Arden St        282.0   8.0   239.0   529.0    0.451796"
      ]
     },
     "execution_count": 23,
     "metadata": {},
     "output_type": "execute_result"
    }
   ],
   "source": [
    "df_hgadv[df_hgadv['total'] >= 500].sort_values('home win %', ascending=False)"
   ]
  },
  {
   "cell_type": "markdown",
   "metadata": {},
   "source": [
    "### Home ground advantage by season"
   ]
  },
  {
   "cell_type": "code",
   "execution_count": 24,
   "metadata": {
    "collapsed": true
   },
   "outputs": [],
   "source": [
    "df_hgadv2 = df.groupby(['date', 'winning side']).count()[['venue']]"
   ]
  },
  {
   "cell_type": "code",
   "execution_count": 25,
   "metadata": {
    "collapsed": true
   },
   "outputs": [],
   "source": [
    "df_hgadv2 = df_hgadv2.reset_index()"
   ]
  },
  {
   "cell_type": "code",
   "execution_count": 26,
   "metadata": {
    "collapsed": true
   },
   "outputs": [],
   "source": [
    "df_hgadv2 = df_hgadv2.groupby([df_hgadv2['date'].map(lambda x: x.year), 'winning side']).sum().reset_index()"
   ]
  },
  {
   "cell_type": "code",
   "execution_count": 27,
   "metadata": {
    "collapsed": true
   },
   "outputs": [],
   "source": [
    "df_hgadv2 = df_hgadv2.pivot(index='date', columns='winning side', values='venue')"
   ]
  },
  {
   "cell_type": "code",
   "execution_count": 28,
   "metadata": {
    "collapsed": true
   },
   "outputs": [],
   "source": [
    "df_hgadv2['draw'].fillna(value=0, inplace=True)"
   ]
  },
  {
   "cell_type": "code",
   "execution_count": 29,
   "metadata": {
    "collapsed": true
   },
   "outputs": [],
   "source": [
    "df_hgadv2['total'] = df_hgadv2['home'] + df_hgadv2['away'] + df_hgadv2['draw']"
   ]
  },
  {
   "cell_type": "code",
   "execution_count": 30,
   "metadata": {
    "collapsed": true
   },
   "outputs": [],
   "source": [
    "df_hgadv2['home win%'] = df_hgadv2['home'] / df_hgadv2['total']"
   ]
  },
  {
   "cell_type": "code",
   "execution_count": 31,
   "metadata": {},
   "outputs": [
    {
     "data": {
      "text/html": [
       "<div>\n",
       "<style>\n",
       "    .dataframe thead tr:only-child th {\n",
       "        text-align: right;\n",
       "    }\n",
       "\n",
       "    .dataframe thead th {\n",
       "        text-align: left;\n",
       "    }\n",
       "\n",
       "    .dataframe tbody tr th {\n",
       "        vertical-align: top;\n",
       "    }\n",
       "</style>\n",
       "<table border=\"1\" class=\"dataframe\">\n",
       "  <thead>\n",
       "    <tr style=\"text-align: right;\">\n",
       "      <th>winning side</th>\n",
       "      <th>away</th>\n",
       "      <th>draw</th>\n",
       "      <th>home</th>\n",
       "      <th>total</th>\n",
       "      <th>home win%</th>\n",
       "    </tr>\n",
       "    <tr>\n",
       "      <th>date</th>\n",
       "      <th></th>\n",
       "      <th></th>\n",
       "      <th></th>\n",
       "      <th></th>\n",
       "      <th></th>\n",
       "    </tr>\n",
       "  </thead>\n",
       "  <tbody>\n",
       "    <tr>\n",
       "      <th>1897</th>\n",
       "      <td>26.0</td>\n",
       "      <td>1.0</td>\n",
       "      <td>35.0</td>\n",
       "      <td>62.0</td>\n",
       "      <td>0.564516</td>\n",
       "    </tr>\n",
       "    <tr>\n",
       "      <th>1898</th>\n",
       "      <td>23.0</td>\n",
       "      <td>1.0</td>\n",
       "      <td>46.0</td>\n",
       "      <td>70.0</td>\n",
       "      <td>0.657143</td>\n",
       "    </tr>\n",
       "    <tr>\n",
       "      <th>1899</th>\n",
       "      <td>30.0</td>\n",
       "      <td>0.0</td>\n",
       "      <td>39.0</td>\n",
       "      <td>69.0</td>\n",
       "      <td>0.565217</td>\n",
       "    </tr>\n",
       "    <tr>\n",
       "      <th>1900</th>\n",
       "      <td>17.0</td>\n",
       "      <td>0.0</td>\n",
       "      <td>53.0</td>\n",
       "      <td>70.0</td>\n",
       "      <td>0.757143</td>\n",
       "    </tr>\n",
       "    <tr>\n",
       "      <th>1901</th>\n",
       "      <td>31.0</td>\n",
       "      <td>1.0</td>\n",
       "      <td>39.0</td>\n",
       "      <td>71.0</td>\n",
       "      <td>0.549296</td>\n",
       "    </tr>\n",
       "  </tbody>\n",
       "</table>\n",
       "</div>"
      ],
      "text/plain": [
       "winning side  away  draw  home  total  home win%\n",
       "date                                            \n",
       "1897          26.0   1.0  35.0   62.0   0.564516\n",
       "1898          23.0   1.0  46.0   70.0   0.657143\n",
       "1899          30.0   0.0  39.0   69.0   0.565217\n",
       "1900          17.0   0.0  53.0   70.0   0.757143\n",
       "1901          31.0   1.0  39.0   71.0   0.549296"
      ]
     },
     "execution_count": 31,
     "metadata": {},
     "output_type": "execute_result"
    }
   ],
   "source": [
    "df_hgadv2.head()"
   ]
  },
  {
   "cell_type": "code",
   "execution_count": 32,
   "metadata": {},
   "outputs": [
    {
     "data": {
      "text/plain": [
       "<matplotlib.axes._subplots.AxesSubplot at 0x2ac0f5b4da0>"
      ]
     },
     "execution_count": 32,
     "metadata": {},
     "output_type": "execute_result"
    },
    {
     "data": {
      "image/png": "[encoded data removed]",
      "text/plain": [
       "<matplotlib.figure.Figure at 0x2ac0f62cef0>"
      ]
     },
     "metadata": {},
     "output_type": "display_data"
    }
   ],
   "source": [
    "df_hgadv2.plot(y='home win%', figsize=(12,6), title='% of games won by the home team')"
   ]
  },
  {
   "cell_type": "markdown",
   "metadata": {},
   "source": [
    "### Create a dataframe for each team containing only their games"
   ]
  },
  {
   "cell_type": "code",
   "execution_count": 33,
   "metadata": {
    "collapsed": true
   },
   "outputs": [],
   "source": [
    "teams = df['home team'].unique()"
   ]
  },
  {
   "cell_type": "code",
   "execution_count": 34,
   "metadata": {},
   "outputs": [],
   "source": [
    "df_ = {}\n",
    "\n",
    "for i in teams:\n",
    "    df_[i] = pd.DataFrame(df[(df['home team'] == i) | (df['away team'] == i)])"
   ]
  },
  {
   "cell_type": "code",
   "execution_count": 35,
   "metadata": {},
   "outputs": [
    {
     "data": {
      "text/html": [
       "<div>\n",
       "<style>\n",
       "    .dataframe thead tr:only-child th {\n",
       "        text-align: right;\n",
       "    }\n",
       "\n",
       "    .dataframe thead th {\n",
       "        text-align: left;\n",
       "    }\n",
       "\n",
       "    .dataframe tbody tr th {\n",
       "        vertical-align: top;\n",
       "    }\n",
       "</style>\n",
       "<table border=\"1\" class=\"dataframe\">\n",
       "  <thead>\n",
       "    <tr style=\"text-align: right;\">\n",
       "      <th></th>\n",
       "      <th>date</th>\n",
       "      <th>round</th>\n",
       "      <th>home team</th>\n",
       "      <th>home goals</th>\n",
       "      <th>home behinds</th>\n",
       "      <th>home score</th>\n",
       "      <th>away team</th>\n",
       "      <th>away goals</th>\n",
       "      <th>away behinds</th>\n",
       "      <th>away score</th>\n",
       "      <th>venue</th>\n",
       "      <th>total score</th>\n",
       "      <th>winning side</th>\n",
       "      <th>home team win margin</th>\n",
       "      <th>margin</th>\n",
       "      <th>winning team</th>\n",
       "      <th>losing team</th>\n",
       "    </tr>\n",
       "  </thead>\n",
       "  <tbody>\n",
       "    <tr>\n",
       "      <th>774</th>\n",
       "      <td>1908-05-02</td>\n",
       "      <td>R1</td>\n",
       "      <td>Richmond</td>\n",
       "      <td>8</td>\n",
       "      <td>14</td>\n",
       "      <td>62</td>\n",
       "      <td>Melbourne</td>\n",
       "      <td>7</td>\n",
       "      <td>9</td>\n",
       "      <td>51</td>\n",
       "      <td>Punt Rd</td>\n",
       "      <td>113</td>\n",
       "      <td>home</td>\n",
       "      <td>11</td>\n",
       "      <td>11</td>\n",
       "      <td>Richmond</td>\n",
       "      <td>Melbourne</td>\n",
       "    </tr>\n",
       "    <tr>\n",
       "      <th>779</th>\n",
       "      <td>1908-05-09</td>\n",
       "      <td>R2</td>\n",
       "      <td>University</td>\n",
       "      <td>14</td>\n",
       "      <td>10</td>\n",
       "      <td>94</td>\n",
       "      <td>Richmond</td>\n",
       "      <td>12</td>\n",
       "      <td>4</td>\n",
       "      <td>76</td>\n",
       "      <td>East Melbourne</td>\n",
       "      <td>170</td>\n",
       "      <td>home</td>\n",
       "      <td>18</td>\n",
       "      <td>18</td>\n",
       "      <td>University</td>\n",
       "      <td>Richmond</td>\n",
       "    </tr>\n",
       "    <tr>\n",
       "      <th>782</th>\n",
       "      <td>1908-05-16</td>\n",
       "      <td>R3</td>\n",
       "      <td>Richmond</td>\n",
       "      <td>7</td>\n",
       "      <td>13</td>\n",
       "      <td>55</td>\n",
       "      <td>Fitzroy</td>\n",
       "      <td>11</td>\n",
       "      <td>14</td>\n",
       "      <td>80</td>\n",
       "      <td>Punt Rd</td>\n",
       "      <td>135</td>\n",
       "      <td>away</td>\n",
       "      <td>-25</td>\n",
       "      <td>25</td>\n",
       "      <td>Fitzroy</td>\n",
       "      <td>Richmond</td>\n",
       "    </tr>\n",
       "    <tr>\n",
       "      <th>786</th>\n",
       "      <td>1908-05-23</td>\n",
       "      <td>R4</td>\n",
       "      <td>Essendon</td>\n",
       "      <td>11</td>\n",
       "      <td>16</td>\n",
       "      <td>82</td>\n",
       "      <td>Richmond</td>\n",
       "      <td>6</td>\n",
       "      <td>9</td>\n",
       "      <td>45</td>\n",
       "      <td>East Melbourne</td>\n",
       "      <td>127</td>\n",
       "      <td>home</td>\n",
       "      <td>37</td>\n",
       "      <td>37</td>\n",
       "      <td>Essendon</td>\n",
       "      <td>Richmond</td>\n",
       "    </tr>\n",
       "    <tr>\n",
       "      <th>792</th>\n",
       "      <td>1908-05-30</td>\n",
       "      <td>R5</td>\n",
       "      <td>Richmond</td>\n",
       "      <td>8</td>\n",
       "      <td>17</td>\n",
       "      <td>65</td>\n",
       "      <td>Geelong</td>\n",
       "      <td>8</td>\n",
       "      <td>11</td>\n",
       "      <td>59</td>\n",
       "      <td>Punt Rd</td>\n",
       "      <td>124</td>\n",
       "      <td>home</td>\n",
       "      <td>6</td>\n",
       "      <td>6</td>\n",
       "      <td>Richmond</td>\n",
       "      <td>Geelong</td>\n",
       "    </tr>\n",
       "  </tbody>\n",
       "</table>\n",
       "</div>"
      ],
      "text/plain": [
       "          date round   home team  home goals  home behinds  home score  \\\n",
       "774 1908-05-02    R1    Richmond           8            14          62   \n",
       "779 1908-05-09    R2  University          14            10          94   \n",
       "782 1908-05-16    R3    Richmond           7            13          55   \n",
       "786 1908-05-23    R4    Essendon          11            16          82   \n",
       "792 1908-05-30    R5    Richmond           8            17          65   \n",
       "\n",
       "     away team  away goals  away behinds  away score           venue  \\\n",
       "774  Melbourne           7             9          51         Punt Rd   \n",
       "779   Richmond          12             4          76  East Melbourne   \n",
       "782    Fitzroy          11            14          80         Punt Rd   \n",
       "786   Richmond           6             9          45  East Melbourne   \n",
       "792    Geelong           8            11          59         Punt Rd   \n",
       "\n",
       "     total score winning side  home team win margin  margin winning team  \\\n",
       "774          113         home                    11      11     Richmond   \n",
       "779          170         home                    18      18   University   \n",
       "782          135         away                   -25      25      Fitzroy   \n",
       "786          127         home                    37      37     Essendon   \n",
       "792          124         home                     6       6     Richmond   \n",
       "\n",
       "    losing team  \n",
       "774   Melbourne  \n",
       "779    Richmond  \n",
       "782    Richmond  \n",
       "786    Richmond  \n",
       "792     Geelong  "
      ]
     },
     "execution_count": 35,
     "metadata": {},
     "output_type": "execute_result"
    }
   ],
   "source": [
    "df_['Richmond'].head()"
   ]
  },
  {
   "cell_type": "markdown",
   "metadata": {},
   "source": [
    "### Richmond win% by season"
   ]
  },
  {
   "cell_type": "code",
   "execution_count": 36,
   "metadata": {
    "collapsed": true
   },
   "outputs": [],
   "source": [
    "rfc_wins = df_['Richmond'][df_['Richmond']['winning team'] == 'Richmond'].groupby('date').count().resample('A').count()[['round']]"
   ]
  },
  {
   "cell_type": "code",
   "execution_count": 37,
   "metadata": {
    "collapsed": true
   },
   "outputs": [],
   "source": [
    "rfc_wins.columns = ['wins']"
   ]
  },
  {
   "cell_type": "code",
   "execution_count": 38,
   "metadata": {},
   "outputs": [],
   "source": [
    "rfc_games = df_['Richmond'].groupby('date').count().resample('A').count()[['round']]"
   ]
  },
  {
   "cell_type": "code",
   "execution_count": 39,
   "metadata": {
    "collapsed": true
   },
   "outputs": [],
   "source": [
    "rfc_games.columns = ['games']"
   ]
  },
  {
   "cell_type": "code",
   "execution_count": 40,
   "metadata": {},
   "outputs": [],
   "source": [
    "rfc_wins = pd.concat([rfc_wins, rfc_games], axis=1)\n",
    "\n",
    "rfc_wins['win%'] = rfc_wins['wins'] / rfc_wins['games']"
   ]
  },
  {
   "cell_type": "code",
   "execution_count": 41,
   "metadata": {
    "collapsed": true
   },
   "outputs": [],
   "source": [
    "rfc_winpc = rfc_wins.drop(['wins', 'games'], axis=1)"
   ]
  },
  {
   "cell_type": "code",
   "execution_count": 42,
   "metadata": {},
   "outputs": [
    {
     "data": {
      "text/plain": [
       "<matplotlib.axes._subplots.AxesSubplot at 0x2ac0f3485f8>"
      ]
     },
     "execution_count": 42,
     "metadata": {},
     "output_type": "execute_result"
    },
    {
     "data": {
      "image/png": "[encoded data removed]",
      "text/plain": [
       "<matplotlib.figure.Figure at 0x2ac0f3486d8>"
      ]
     },
     "metadata": {},
     "output_type": "display_data"
    }
   ],
   "source": [
    "rfc_winpc.plot(figsize=(12,6), title='Richmond win% by season')"
   ]
  },
  {
   "cell_type": "markdown",
   "metadata": {},
   "source": [
    "### Dynamic League Ladder"
   ]
  },
  {
   "cell_type": "markdown",
   "metadata": {},
   "source": [
    "Here I have built a dynamic AFL league ladder that can show what the standings were at any point in time.\n",
    "\n",
    "The date entered below is '2001-07-18', the ladder shows the standings on that day."
   ]
  },
  {
   "cell_type": "code",
   "execution_count": 43,
   "metadata": {
    "collapsed": true
   },
   "outputs": [],
   "source": [
    "# select a date for the ladder\n",
    "\n",
    "select_date = '2001-07-18'"
   ]
  },
  {
   "cell_type": "code",
   "execution_count": 44,
   "metadata": {},
   "outputs": [],
   "source": [
    "yr = datetime.datetime.strptime(select_date, \"%Y-%m-%d\").year"
   ]
  },
  {
   "cell_type": "code",
   "execution_count": 45,
   "metadata": {},
   "outputs": [],
   "source": [
    "start_date = str(yr)+'-01-01'"
   ]
  },
  {
   "cell_type": "code",
   "execution_count": 46,
   "metadata": {},
   "outputs": [],
   "source": [
    "dfladder = df[(df['date'] > start_date) & (df['date'] <= select_date) & (~df['round'].isin(['QF', 'EF', 'SF', 'PF', 'GF']))]"
   ]
  },
  {
   "cell_type": "code",
   "execution_count": 47,
   "metadata": {},
   "outputs": [],
   "source": [
    "# create won column\n",
    "\n",
    "won = dfladder.groupby('winning team').count()[['date']].drop('draw', errors='ignore')\n",
    "\n",
    "won.columns = ['won']"
   ]
  },
  {
   "cell_type": "code",
   "execution_count": 48,
   "metadata": {},
   "outputs": [],
   "source": [
    "# create lost column\n",
    "\n",
    "lost = dfladder.groupby('losing team').count()[['date']].drop('draw', errors='ignore')\n",
    "\n",
    "lost.columns = ['lost']"
   ]
  },
  {
   "cell_type": "code",
   "execution_count": 49,
   "metadata": {},
   "outputs": [],
   "source": [
    "# create for column\n",
    "\n",
    "ptsforhome = dfladder.groupby('home team')[['home score']].sum()"
   ]
  },
  {
   "cell_type": "code",
   "execution_count": 50,
   "metadata": {},
   "outputs": [],
   "source": [
    "ptsforaway = dfladder.groupby('away team')[['away score']].sum()"
   ]
  },
  {
   "cell_type": "code",
   "execution_count": 51,
   "metadata": {},
   "outputs": [],
   "source": [
    "ptsfor = ptsforhome['home score'] + ptsforaway['away score']"
   ]
  },
  {
   "cell_type": "code",
   "execution_count": 52,
   "metadata": {},
   "outputs": [],
   "source": [
    "ptsfor = pd.DataFrame(ptsfor)"
   ]
  },
  {
   "cell_type": "code",
   "execution_count": 53,
   "metadata": {},
   "outputs": [],
   "source": [
    "ptsfor.columns = ['for']"
   ]
  },
  {
   "cell_type": "code",
   "execution_count": 54,
   "metadata": {
    "collapsed": true
   },
   "outputs": [],
   "source": [
    "# create against column\n",
    "\n",
    "ptsagainsthome = dfladder.groupby('home team')[['away score']].sum()"
   ]
  },
  {
   "cell_type": "code",
   "execution_count": 55,
   "metadata": {
    "collapsed": true
   },
   "outputs": [],
   "source": [
    "ptsagainstaway = dfladder.groupby('away team')[['home score']].sum()"
   ]
  },
  {
   "cell_type": "code",
   "execution_count": 56,
   "metadata": {
    "collapsed": true
   },
   "outputs": [],
   "source": [
    "ptsagainst = ptsagainsthome['away score'] + ptsagainstaway['home score']"
   ]
  },
  {
   "cell_type": "code",
   "execution_count": 57,
   "metadata": {
    "collapsed": true
   },
   "outputs": [],
   "source": [
    "ptsagainst = pd.DataFrame(ptsagainst)"
   ]
  },
  {
   "cell_type": "code",
   "execution_count": 58,
   "metadata": {
    "collapsed": true
   },
   "outputs": [],
   "source": [
    "ptsagainst.columns = ['against']"
   ]
  },
  {
   "cell_type": "code",
   "execution_count": 59,
   "metadata": {},
   "outputs": [],
   "source": [
    "# create games column\n",
    "\n",
    "played = pd.concat([dfladder['home team'], dfladder['away team']], axis=0)"
   ]
  },
  {
   "cell_type": "code",
   "execution_count": 60,
   "metadata": {},
   "outputs": [],
   "source": [
    "played = pd.DataFrame(played)"
   ]
  },
  {
   "cell_type": "code",
   "execution_count": 61,
   "metadata": {},
   "outputs": [],
   "source": [
    "played.reset_index(inplace=True)"
   ]
  },
  {
   "cell_type": "code",
   "execution_count": 62,
   "metadata": {
    "collapsed": true
   },
   "outputs": [],
   "source": [
    "played.columns = ['games', 'index']"
   ]
  },
  {
   "cell_type": "code",
   "execution_count": 63,
   "metadata": {},
   "outputs": [],
   "source": [
    "played = played.groupby('index').count()"
   ]
  },
  {
   "cell_type": "code",
   "execution_count": 64,
   "metadata": {},
   "outputs": [],
   "source": [
    "played.reset_index(inplace=True)"
   ]
  },
  {
   "cell_type": "code",
   "execution_count": 65,
   "metadata": {},
   "outputs": [],
   "source": [
    "played.set_index('index', inplace=True)"
   ]
  },
  {
   "cell_type": "code",
   "execution_count": 66,
   "metadata": {},
   "outputs": [],
   "source": [
    "# construct ladder\n",
    "\n",
    "ladder = pd.concat([played, won, lost, ptsfor, ptsagainst], axis=1)"
   ]
  },
  {
   "cell_type": "code",
   "execution_count": 67,
   "metadata": {
    "collapsed": true
   },
   "outputs": [],
   "source": [
    "ladder['drawn'] = ladder['games'] - ladder['won'] - ladder['lost']"
   ]
  },
  {
   "cell_type": "code",
   "execution_count": 68,
   "metadata": {},
   "outputs": [],
   "source": [
    "ladder.fillna(0, inplace=True)"
   ]
  },
  {
   "cell_type": "code",
   "execution_count": 69,
   "metadata": {},
   "outputs": [],
   "source": [
    "ladder['points'] = ladder['won']*4 + ladder['drawn']*2"
   ]
  },
  {
   "cell_type": "code",
   "execution_count": 70,
   "metadata": {
    "collapsed": true
   },
   "outputs": [],
   "source": [
    "ladder['%'] = ladder['for']*100 / ladder['against']"
   ]
  },
  {
   "cell_type": "code",
   "execution_count": 71,
   "metadata": {
    "collapsed": true
   },
   "outputs": [],
   "source": [
    "ladder = ladder[['games', 'won', 'drawn', 'lost', 'for', 'against', '%', 'points']]"
   ]
  },
  {
   "cell_type": "code",
   "execution_count": 72,
   "metadata": {},
   "outputs": [],
   "source": [
    "title = 'AFL League Ladder for the year '+str(yr)+' as at '+select_date\n",
    "\n",
    "ladder.index.name = title"
   ]
  },
  {
   "cell_type": "code",
   "execution_count": 73,
   "metadata": {},
   "outputs": [
    {
     "data": {
      "text/html": [
       "<div>\n",
       "<style>\n",
       "    .dataframe thead tr:only-child th {\n",
       "        text-align: right;\n",
       "    }\n",
       "\n",
       "    .dataframe thead th {\n",
       "        text-align: left;\n",
       "    }\n",
       "\n",
       "    .dataframe tbody tr th {\n",
       "        vertical-align: top;\n",
       "    }\n",
       "</style>\n",
       "<table border=\"1\" class=\"dataframe\">\n",
       "  <thead>\n",
       "    <tr style=\"text-align: right;\">\n",
       "      <th></th>\n",
       "      <th>games</th>\n",
       "      <th>won</th>\n",
       "      <th>drawn</th>\n",
       "      <th>lost</th>\n",
       "      <th>for</th>\n",
       "      <th>against</th>\n",
       "      <th>%</th>\n",
       "      <th>points</th>\n",
       "    </tr>\n",
       "    <tr>\n",
       "      <th>AFL League Ladder for the year 2001 as at 2001-07-18</th>\n",
       "      <th></th>\n",
       "      <th></th>\n",
       "      <th></th>\n",
       "      <th></th>\n",
       "      <th></th>\n",
       "      <th></th>\n",
       "      <th></th>\n",
       "      <th></th>\n",
       "    </tr>\n",
       "  </thead>\n",
       "  <tbody>\n",
       "    <tr>\n",
       "      <th>Essendon</th>\n",
       "      <td>15</td>\n",
       "      <td>13</td>\n",
       "      <td>0</td>\n",
       "      <td>2</td>\n",
       "      <td>1780</td>\n",
       "      <td>1212</td>\n",
       "      <td>146</td>\n",
       "      <td>52</td>\n",
       "    </tr>\n",
       "    <tr>\n",
       "      <th>Port Adelaide</th>\n",
       "      <td>15</td>\n",
       "      <td>10</td>\n",
       "      <td>0</td>\n",
       "      <td>5</td>\n",
       "      <td>1665</td>\n",
       "      <td>1321</td>\n",
       "      <td>126</td>\n",
       "      <td>40</td>\n",
       "    </tr>\n",
       "    <tr>\n",
       "      <th>Brisbane Lions</th>\n",
       "      <td>15</td>\n",
       "      <td>10</td>\n",
       "      <td>0</td>\n",
       "      <td>5</td>\n",
       "      <td>1703</td>\n",
       "      <td>1398</td>\n",
       "      <td>121</td>\n",
       "      <td>40</td>\n",
       "    </tr>\n",
       "    <tr>\n",
       "      <th>Hawthorn</th>\n",
       "      <td>15</td>\n",
       "      <td>10</td>\n",
       "      <td>0</td>\n",
       "      <td>5</td>\n",
       "      <td>1444</td>\n",
       "      <td>1377</td>\n",
       "      <td>104</td>\n",
       "      <td>40</td>\n",
       "    </tr>\n",
       "    <tr>\n",
       "      <th>Carlton</th>\n",
       "      <td>15</td>\n",
       "      <td>9</td>\n",
       "      <td>0</td>\n",
       "      <td>6</td>\n",
       "      <td>1557</td>\n",
       "      <td>1251</td>\n",
       "      <td>124</td>\n",
       "      <td>36</td>\n",
       "    </tr>\n",
       "    <tr>\n",
       "      <th>Richmond</th>\n",
       "      <td>15</td>\n",
       "      <td>9</td>\n",
       "      <td>0</td>\n",
       "      <td>6</td>\n",
       "      <td>1392</td>\n",
       "      <td>1364</td>\n",
       "      <td>102</td>\n",
       "      <td>36</td>\n",
       "    </tr>\n",
       "    <tr>\n",
       "      <th>Collingwood</th>\n",
       "      <td>15</td>\n",
       "      <td>8</td>\n",
       "      <td>0</td>\n",
       "      <td>7</td>\n",
       "      <td>1579</td>\n",
       "      <td>1386</td>\n",
       "      <td>113</td>\n",
       "      <td>32</td>\n",
       "    </tr>\n",
       "    <tr>\n",
       "      <th>Sydney/South Melbourne</th>\n",
       "      <td>15</td>\n",
       "      <td>8</td>\n",
       "      <td>0</td>\n",
       "      <td>7</td>\n",
       "      <td>1411</td>\n",
       "      <td>1335</td>\n",
       "      <td>105</td>\n",
       "      <td>32</td>\n",
       "    </tr>\n",
       "    <tr>\n",
       "      <th>North Melbourne</th>\n",
       "      <td>15</td>\n",
       "      <td>8</td>\n",
       "      <td>0</td>\n",
       "      <td>7</td>\n",
       "      <td>1449</td>\n",
       "      <td>1459</td>\n",
       "      <td>99</td>\n",
       "      <td>32</td>\n",
       "    </tr>\n",
       "    <tr>\n",
       "      <th>Adelaide</th>\n",
       "      <td>15</td>\n",
       "      <td>8</td>\n",
       "      <td>0</td>\n",
       "      <td>7</td>\n",
       "      <td>1388</td>\n",
       "      <td>1404</td>\n",
       "      <td>98</td>\n",
       "      <td>32</td>\n",
       "    </tr>\n",
       "    <tr>\n",
       "      <th>Western Bulldogs/Footscray</th>\n",
       "      <td>15</td>\n",
       "      <td>8</td>\n",
       "      <td>0</td>\n",
       "      <td>7</td>\n",
       "      <td>1592</td>\n",
       "      <td>1661</td>\n",
       "      <td>95</td>\n",
       "      <td>32</td>\n",
       "    </tr>\n",
       "    <tr>\n",
       "      <th>Geelong</th>\n",
       "      <td>15</td>\n",
       "      <td>7</td>\n",
       "      <td>0</td>\n",
       "      <td>8</td>\n",
       "      <td>1353</td>\n",
       "      <td>1368</td>\n",
       "      <td>98</td>\n",
       "      <td>28</td>\n",
       "    </tr>\n",
       "    <tr>\n",
       "      <th>Melbourne</th>\n",
       "      <td>15</td>\n",
       "      <td>6</td>\n",
       "      <td>0</td>\n",
       "      <td>9</td>\n",
       "      <td>1414</td>\n",
       "      <td>1581</td>\n",
       "      <td>89</td>\n",
       "      <td>24</td>\n",
       "    </tr>\n",
       "    <tr>\n",
       "      <th>St Kilda</th>\n",
       "      <td>15</td>\n",
       "      <td>3</td>\n",
       "      <td>0</td>\n",
       "      <td>12</td>\n",
       "      <td>1332</td>\n",
       "      <td>1779</td>\n",
       "      <td>74</td>\n",
       "      <td>12</td>\n",
       "    </tr>\n",
       "    <tr>\n",
       "      <th>West Coast</th>\n",
       "      <td>15</td>\n",
       "      <td>3</td>\n",
       "      <td>0</td>\n",
       "      <td>12</td>\n",
       "      <td>1140</td>\n",
       "      <td>1777</td>\n",
       "      <td>64</td>\n",
       "      <td>12</td>\n",
       "    </tr>\n",
       "    <tr>\n",
       "      <th>Fremantle</th>\n",
       "      <td>15</td>\n",
       "      <td>0</td>\n",
       "      <td>0</td>\n",
       "      <td>15</td>\n",
       "      <td>1192</td>\n",
       "      <td>1718</td>\n",
       "      <td>69</td>\n",
       "      <td>0</td>\n",
       "    </tr>\n",
       "  </tbody>\n",
       "</table>\n",
       "</div>"
      ],
      "text/plain": [
       "                                                    games  won  drawn  lost  \\\n",
       "AFL League Ladder for the year 2001 as at 2001-...                            \n",
       "Essendon                                               15   13      0     2   \n",
       "Port Adelaide                                          15   10      0     5   \n",
       "Brisbane Lions                                         15   10      0     5   \n",
       "Hawthorn                                               15   10      0     5   \n",
       "Carlton                                                15    9      0     6   \n",
       "Richmond                                               15    9      0     6   \n",
       "Collingwood                                            15    8      0     7   \n",
       "Sydney/South Melbourne                                 15    8      0     7   \n",
       "North Melbourne                                        15    8      0     7   \n",
       "Adelaide                                               15    8      0     7   \n",
       "Western Bulldogs/Footscray                             15    8      0     7   \n",
       "Geelong                                                15    7      0     8   \n",
       "Melbourne                                              15    6      0     9   \n",
       "St Kilda                                               15    3      0    12   \n",
       "West Coast                                             15    3      0    12   \n",
       "Fremantle                                              15    0      0    15   \n",
       "\n",
       "                                                     for  against    %  points  \n",
       "AFL League Ladder for the year 2001 as at 2001-...                              \n",
       "Essendon                                            1780     1212  146      52  \n",
       "Port Adelaide                                       1665     1321  126      40  \n",
       "Brisbane Lions                                      1703     1398  121      40  \n",
       "Hawthorn                                            1444     1377  104      40  \n",
       "Carlton                                             1557     1251  124      36  \n",
       "Richmond                                            1392     1364  102      36  \n",
       "Collingwood                                         1579     1386  113      32  \n",
       "Sydney/South Melbourne                              1411     1335  105      32  \n",
       "North Melbourne                                     1449     1459   99      32  \n",
       "Adelaide                                            1388     1404   98      32  \n",
       "Western Bulldogs/Footscray                          1592     1661   95      32  \n",
       "Geelong                                             1353     1368   98      28  \n",
       "Melbourne                                           1414     1581   89      24  \n",
       "St Kilda                                            1332     1779   74      12  \n",
       "West Coast                                          1140     1777   64      12  \n",
       "Fremantle                                           1192     1718   69       0  "
      ]
     },
     "execution_count": 73,
     "metadata": {},
     "output_type": "execute_result"
    }
   ],
   "source": [
    "ladder.sort_values(['points', '%'], ascending=False).astype(int)"
   ]
  },
  {
   "cell_type": "markdown",
   "metadata": {},
   "source": [
    "The selected date looks to be after round 15. We can verify this data with the AFL website ladder http://www.afl.com.au/ladder which shows round by round standings back to 1999. This dynamic ladder can show daily standings all the way back to 1897!"
   ]
  },
  {
   "cell_type": "code",
   "execution_count": 74,
   "metadata": {
    "collapsed": true
   },
   "outputs": [],
   "source": [
    "# ideas\n",
    "\n",
    "# gap between the best and worst teams for each year\n",
    "# most dominant seasons by win% in year, and %age in year\n",
    "# most dominant finals campaigns\n",
    "# most dominant 10 year period for a team\n",
    "# home ground advantage over the years\n",
    "# home ground advantage by venue\n",
    "# chart premierships by teams over the years\n",
    "# teams win % over the years\n",
    "# dynamic league ladder"
   ]
  }
 ],
 "metadata": {
  "kernelspec": {
   "display_name": "Python 3",
   "language": "python",
   "name": "python3"
  },
  "language_info": {
   "codemirror_mode": {
    "name": "ipython",
    "version": 3
   },
   "file_extension": ".py",
   "mimetype": "text/x-python",
   "name": "python",
   "nbconvert_exporter": "python",
   "pygments_lexer": "ipython3",
   "version": "3.6.3"
  }
 },
 "nbformat": 4,
 "nbformat_minor": 2
}
